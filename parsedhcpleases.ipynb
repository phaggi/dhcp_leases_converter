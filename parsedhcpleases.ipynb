{
 "cells": [
  {
   "cell_type": "code",
   "execution_count": 1,
   "metadata": {},
   "outputs": [
    {
     "name": "stderr",
     "output_type": "stream",
     "text": [
      ".\n",
      "----------------------------------------------------------------------\n",
      "Ran 1 test in 0.003s\n",
      "\n",
      "OK\n"
     ]
    }
   ],
   "source": [
    "import unittest\n",
    "import re\n",
    "\n",
    "def parsedhcpleases(in_file):\n",
    "    leases = []\n",
    "    pattern = r'static-mapping (.*?) \\{\\n\\s+ip-address ((\\d{1,3}\\.){3}\\d{1,3})\\n\\s+mac-address (.{17})\\n\\s+\\}'\n",
    "\n",
    "    with open(in_file) as uni:\n",
    "        temp_list = re.findall(pattern, uni.read())   \n",
    "        for punkt in temp_list:\n",
    "            string = 'dhcp-host='\n",
    "            comma = ','\n",
    "            macaddr = punkt[3]\n",
    "            name = punkt[0].replace('_','-')\n",
    "            ipaddr = punkt[1]\n",
    "            string += comma.join([macaddr, name, ipaddr])\n",
    "            leases.append(string)\n",
    "    return leases\n",
    "\n",
    "\n",
    "class TestLeases(unittest.TestCase):\n",
    "    def test_regexp_cutter(self):\n",
    "        cases = {1: ['''dhcp_uni.txt''', ['dhcp-host=7c:2f:80:5f:e3:c3,A510-IP,192.168.1.151']]}\n",
    "        for key in cases.keys():\n",
    "            data = cases[key][0]\n",
    "            target = cases[key][1]\n",
    "            result = [parsedhcpleases(data)[0]]\n",
    "            self.assertEqual(result, target)\n",
    " \n",
    "if __name__ == \"__main__\":\n",
    "    unittest.main(argv=['first-arg-is-ignored'], exit=False)\n",
    "\n"
   ]
  },
  {
   "cell_type": "code",
   "execution_count": null,
   "metadata": {},
   "outputs": [],
   "source": []
  }
 ],
 "metadata": {
  "kernelspec": {
   "display_name": "Python 3",
   "language": "python",
   "name": "python3"
  },
  "language_info": {
   "codemirror_mode": {
    "name": "ipython",
    "version": 3
   },
   "file_extension": ".py",
   "mimetype": "text/x-python",
   "name": "python",
   "nbconvert_exporter": "python",
   "pygments_lexer": "ipython3",
   "version": "3.7.3"
  }
 },
 "nbformat": 4,
 "nbformat_minor": 2
}
